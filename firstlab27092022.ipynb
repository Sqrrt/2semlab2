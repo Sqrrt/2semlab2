{
  "nbformat": 4,
  "nbformat_minor": 0,
  "metadata": {
    "colab": {
      "provenance": [],
      "authorship_tag": "ABX9TyPC8s1r4t6cRWIpsrDtGl/3",
      "include_colab_link": true
    },
    "kernelspec": {
      "name": "python3",
      "display_name": "Python 3"
    },
    "language_info": {
      "name": "python"
    }
  },
  "cells": [
    {
      "cell_type": "markdown",
      "metadata": {
        "id": "view-in-github",
        "colab_type": "text"
      },
      "source": [
        "<a href=\"https://colab.research.google.com/github/Sqrrt/2semlab2/blob/main/firstlab27092022.ipynb\" target=\"_parent\"><img src=\"https://colab.research.google.com/assets/colab-badge.svg\" alt=\"Open In Colab\"/></a>"
      ]
    },
    {
      "cell_type": "code",
      "execution_count": 3,
      "metadata": {
        "id": "AeUa0RqF_wGP"
      },
      "outputs": [],
      "source": [
        "import requests\n",
        "import numpy as np\n",
        "import matplotlib.pyplot as plt"
      ]
    },
    {
      "cell_type": "code",
      "source": [
        "salary=[]\n",
        "for i in range(0,20,1):\n",
        "  url=\"https://api.hh.ru/vacancies?text=Разработчик&area=1&search_field=name&ber_page=100&page={}\".format(str(i))\n",
        "  items=requests.get(url).json()['items']\n",
        "  for item in items:\n",
        "    salary+=[item['salary']]\n",
        "salary"
      ],
      "metadata": {
        "id": "lkH8qG9IAG_5"
      },
      "execution_count": null,
      "outputs": []
    },
    {
      "cell_type": "code",
      "source": [
        "salary_clean = []\n",
        "for sal in salary:\n",
        "  if sal is not None:\n",
        "    if sal['currency'] == 'RUR':\n",
        "      coef=1\n",
        "    else:\n",
        "      coef=60\n",
        "    if sal['gross'] == True:\n",
        "      gross=1\n",
        "    else:\n",
        "      gross=0.87\n",
        "    if (sal['from'] is not None) and (sal['to'] is not None):\n",
        "      salary_clean+=[np.mean([sal['from'], sal['to']])*coef*gross]\n",
        "    elif (sal['from'] is not None):\n",
        "      salary_clean+=[sal['from']*coef*gross]\n",
        "    else:\n",
        "      salary_clean+=[sal['to']*coef*gross]\n",
        "plt.hist(salary_clean)"
      ],
      "metadata": {
        "id": "GkDvsRdkGb8e"
      },
      "execution_count": null,
      "outputs": []
    },
    {
      "cell_type": "code",
      "source": [
        "names=[]\n",
        "for i in range(0,20,1):\n",
        "  url=\"https://api.hh.ru/vacancies?text=Разработчик&area=1&search_field=name&ber_page=100&page={}\".format(str(i))\n",
        "  items=requests.get(url).json()['items']\n",
        "  for item in items:\n",
        "    names+=[item['name']]\n",
        "names"
      ],
      "metadata": {
        "id": "-TnzpSm6Jm7-"
      },
      "execution_count": null,
      "outputs": []
    },
    {
      "cell_type": "code",
      "source": [
        "langs=[]\n",
        "for name in names:\n",
        "  s1=''\n",
        "  for s in name.lower():\n",
        "    if s in['a','b','c','d',' ','+','#']:\n",
        "      s1+=s\n",
        "    langs+=[s1.split(' ')]"
      ],
      "metadata": {
        "id": "kCliAtaUJ5vu"
      },
      "execution_count": 30,
      "outputs": []
    },
    {
      "cell_type": "code",
      "source": [
        "lll=[]\n",
        "for l in langs:\n",
        "  lll+=l\n",
        "lll"
      ],
      "metadata": {
        "id": "TDz9d4RiMTu4"
      },
      "execution_count": null,
      "outputs": []
    },
    {
      "cell_type": "code",
      "source": [
        "d={}\n",
        "for lang in set(lll):\n",
        "  count=0\n",
        "  if len(lang)<=7:\n",
        "    for l in lll:\n",
        "      if lang==l:\n",
        "        count+=1\n",
        "    d.update({lang:count})\n",
        "d"
      ],
      "metadata": {
        "id": "XawPcOdSMo2y"
      },
      "execution_count": null,
      "outputs": []
    },
    {
      "cell_type": "code",
      "source": [
        "list(d.keys())"
      ],
      "metadata": {
        "id": "UEIvFWztNjAK"
      },
      "execution_count": null,
      "outputs": []
    },
    {
      "cell_type": "code",
      "source": [
        "plt.bar(list(d.keys()),list(d.values()))"
      ],
      "metadata": {
        "id": "xh6FmH6PNetY"
      },
      "execution_count": null,
      "outputs": []
    },
    {
      "cell_type": "code",
      "source": [
        "import string"
      ],
      "metadata": {
        "id": "xbgbP-N-PadH"
      },
      "execution_count": null,
      "outputs": []
    },
    {
      "cell_type": "code",
      "source": [
        "string.ascii_lowercase\n",
        "'abcdefghijklmnopqrstuvwxyz'"
      ],
      "metadata": {
        "id": "BaQmdpgmPf0_"
      },
      "execution_count": null,
      "outputs": []
    }
  ]
}